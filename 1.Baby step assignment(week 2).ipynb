{
 "cells": [
  {
   "cell_type": "code",
   "execution_count": 1,
   "id": "e9947c25-62e4-4000-815c-edc1950ffa8b",
   "metadata": {},
   "outputs": [
    {
     "name": "stdout",
     "output_type": "stream",
     "text": [
      "Welcome to Assignment-1\n"
     ]
    }
   ],
   "source": [
    "#Question1 : just display Welcome to Asignment-1\n",
    "#solution:\n",
    "print(\"Welcome to Assignment-1\")\n"
   ]
  },
  {
   "cell_type": "code",
   "execution_count": 3,
   "id": "6dddf23a-122e-46d5-91c9-620e0c15259f",
   "metadata": {},
   "outputs": [
    {
     "name": "stdin",
     "output_type": "stream",
     "text": [
      "Enter Number 1 : 35\n",
      "Enter Number 2 : 46\n"
     ]
    },
    {
     "name": "stdout",
     "output_type": "stream",
     "text": [
      "The Addition of two numbers is : 81\n"
     ]
    }
   ],
   "source": [
    "#Question 2: Addition of two numbers\n",
    "#solution\n",
    "Num1=int(input(\"Enter Number 1 :\"))\n",
    "Num2=int(input(\"Enter Number 2 :\"))\n",
    "Addition=Num1+Num2\n",
    "print(\"The Addition of two numbers is :\",Addition)\n"
   ]
  },
  {
   "cell_type": "code",
   "execution_count": 23,
   "id": "52104fe3-d86b-4e8b-a2cb-cd1143de02d3",
   "metadata": {},
   "outputs": [
    {
     "name": "stdin",
     "output_type": "stream",
     "text": [
      "Enter Your Weight : 39\n"
     ]
    },
    {
     "name": "stdout",
     "output_type": "stream",
     "text": [
      "Obese Class 2\n"
     ]
    }
   ],
   "source": [
    "#Question3: Body Mass Index\n",
    "#solution\n",
    "weight=int(input(\"Enter Your Weight :\"))\n",
    "if(weight<18):\n",
    "    print(\"UnderWeight\")\n",
    "elif(weight<25):\n",
    "    print(\"Normal Range\")\n",
    "elif(weight<30):\n",
    "    print(\"OverWeight\")\n",
    "elif(weight<35):\n",
    "    print(\"Obese class 1\")\n",
    "elif(weight<40):\n",
    "    print(\"Obese Class 2\")\n",
    "elif(weight>=40):\n",
    "    print(\"Obese Class 3\")\n",
    "else:\n",
    "    print(\"Obese\")"
   ]
  },
  {
   "cell_type": "code",
   "execution_count": null,
   "id": "80b95255-8f3f-4ad8-8a44-8efbda5bc63e",
   "metadata": {},
   "outputs": [],
   "source": []
  }
 ],
 "metadata": {
  "kernelspec": {
   "display_name": "Python 3 (ipykernel)",
   "language": "python",
   "name": "python3"
  },
  "language_info": {
   "codemirror_mode": {
    "name": "ipython",
    "version": 3
   },
   "file_extension": ".py",
   "mimetype": "text/x-python",
   "name": "python",
   "nbconvert_exporter": "python",
   "pygments_lexer": "ipython3",
   "version": "3.12.7"
  }
 },
 "nbformat": 4,
 "nbformat_minor": 5
}
