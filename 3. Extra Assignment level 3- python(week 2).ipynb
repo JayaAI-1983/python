{
 "cells": [
  {
   "cell_type": "code",
   "execution_count": 4,
   "id": "aef3a95e-8dc7-49c6-9b07-9319779bde1e",
   "metadata": {},
   "outputs": [
    {
     "name": "stdin",
     "output_type": "stream",
     "text": [
      "Enter the number 10\n"
     ]
    },
    {
     "name": "stdout",
     "output_type": "stream",
     "text": [
      "Value : 10\n",
      "correct\n"
     ]
    }
   ],
   "source": [
    "#q1. print \"corrct\" if i==10\n",
    "num=int(input(\"Enter the number\"))\n",
    "if(num==10):\n",
    "    print(\"Value :\",num)\n",
    "    print(\"correct\")\n",
    "else:\n",
    "    print(\"Not Correct\")"
   ]
  },
  {
   "cell_type": "code",
   "execution_count": 6,
   "id": "f4290e95-fc91-469a-a297-beeca95060ca",
   "metadata": {},
   "outputs": [
    {
     "name": "stdin",
     "output_type": "stream",
     "text": [
      "Enter your password jajasdhad\n"
     ]
    },
    {
     "name": "stdout",
     "output_type": "stream",
     "text": [
      "wrong password\n"
     ]
    }
   ],
   "source": [
    "#q2. Check the password using if else\n",
    "password=input(\"Enter your password\")\n",
    "if(password==\"HOPE@123\"):\n",
    "     print(\"Your password is correct\")\n",
    "else:\n",
    "    print(\"wrong password\")"
   ]
  },
  {
   "cell_type": "code",
   "execution_count": 11,
   "id": "4b574880-c1b2-41f5-b7bc-b25b78001a27",
   "metadata": {},
   "outputs": [
    {
     "name": "stdin",
     "output_type": "stream",
     "text": [
      "Enter any number -58.78\n"
     ]
    },
    {
     "name": "stdout",
     "output_type": "stream",
     "text": [
      "Given number is negative\n"
     ]
    }
   ],
   "source": [
    "#q3. find whether given number is positive or negative\n",
    "num=float(input(\"Enter any number\"))\n",
    "if(num>0):\n",
    "    print(\"Given number is positive:\")\n",
    "else:\n",
    "    print(\"Given number is negative\")"
   ]
  },
  {
   "cell_type": "code",
   "execution_count": 14,
   "id": "4ee06740-14a6-47a6-b821-299a92663d74",
   "metadata": {},
   "outputs": [
    {
     "name": "stdin",
     "output_type": "stream",
     "text": [
      "Enter your age 25\n"
     ]
    },
    {
     "name": "stdout",
     "output_type": "stream",
     "text": [
      "Adult\n"
     ]
    }
   ],
   "source": [
    "#q4: Catagory the people by their age like children, adult, citizen, senior citizen...\n",
    "age=int(input(\"Enter your age\"))\n",
    "if(age<18):\n",
    "     print(\"Children\")\n",
    "elif(age< 35):\n",
    "     print(\"Adult\")\n",
    "elif(age<59):\n",
    "     print(\"Citizen\")\n",
    "else:\n",
    "     print(\"Senior Citizen\")\n",
    "            "
   ]
  },
  {
   "cell_type": "code",
   "execution_count": 18,
   "id": "4b92edbb-dd57-40bb-94ce-70bc799f6e27",
   "metadata": {},
   "outputs": [
    {
     "name": "stdin",
     "output_type": "stream",
     "text": [
      "Enter any number: 100\n"
     ]
    },
    {
     "name": "stdout",
     "output_type": "stream",
     "text": [
      "100 is divisible by 5\n"
     ]
    }
   ],
   "source": [
    "#q5: Check whether the given number is divisible by 5\n",
    "num=int(input(\"Enter any number:\"))\n",
    "if(num%5==0):\n",
    "        print(num,\"is divisible by 5\")\n",
    "else:\n",
    "        print(num,\"is not divisible by 5\")\n",
    "        "
   ]
  },
  {
   "cell_type": "code",
   "execution_count": null,
   "id": "a395f649-883a-4bcb-8810-9fe1a9961d32",
   "metadata": {},
   "outputs": [],
   "source": []
  }
 ],
 "metadata": {
  "kernelspec": {
   "display_name": "Python 3 (ipykernel)",
   "language": "python",
   "name": "python3"
  },
  "language_info": {
   "codemirror_mode": {
    "name": "ipython",
    "version": 3
   },
   "file_extension": ".py",
   "mimetype": "text/x-python",
   "name": "python",
   "nbconvert_exporter": "python",
   "pygments_lexer": "ipython3",
   "version": "3.12.7"
  }
 },
 "nbformat": 4,
 "nbformat_minor": 5
}
