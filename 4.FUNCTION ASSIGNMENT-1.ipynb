{
 "cells": [
  {
   "cell_type": "code",
   "execution_count": 30,
   "id": "84d20f5f-4eae-4cec-915d-3f35753e1a92",
   "metadata": {},
   "outputs": [
    {
     "name": "stdout",
     "output_type": "stream",
     "text": [
      "Subfields in AI are:\n",
      " Machine Learning\n",
      " Neural Networks\n",
      " Vision\n",
      " Robotics\n",
      " Speech Processing\n",
      " Natural Language Processing\n"
     ]
    }
   ],
   "source": [
    "#Create a Class and Function and list out the items in the list\n",
    "class Subfields:\n",
    "    def __init__(self):\n",
    "        self.subfields_list = [\"Machine Learning\",\"Neural Networks\",\"Vision\",\"Robotics\",\"Speech Processing\",\"Natural Language Processing\"]\n",
    "            \n",
    "    def Subfields(self):\n",
    "        print(\"Subfields in AI are:\")\n",
    "        for subfield in self.subfields_list:\n",
    "            print(f\" {subfield}\")\n",
    "\n",
    "\n",
    "SubfieldsInAI = Subfields()\n",
    "SubfieldsInAI.Subfields()\n"
   ]
  },
  {
   "cell_type": "code",
   "execution_count": 16,
   "id": "f0440687-e920-49a8-b31a-8f28c4d6eff8",
   "metadata": {},
   "outputs": [
    {
     "name": "stdin",
     "output_type": "stream",
     "text": [
      "Enter the Number : 52452\n"
     ]
    },
    {
     "name": "stdout",
     "output_type": "stream",
     "text": [
      "52452 is Even Number\n"
     ]
    }
   ],
   "source": [
    "# Create a function that checks whether the given number is Odd or Even\n",
    "def oddEven():\n",
    "        num=int(input(\"Enter the Number :\"))\n",
    "        if(num%2==0):\n",
    "            print(f\"{num} is Even Number\")\n",
    "        else:\n",
    "            print(f\"{num} is Odd Number\")\n",
    "            \n",
    "oddEven=oddEven() "
   ]
  },
  {
   "cell_type": "code",
   "execution_count": 26,
   "id": "72fb914a-ce79-4f12-9a91-4dd751e9bc1b",
   "metadata": {},
   "outputs": [
    {
     "name": "stdin",
     "output_type": "stream",
     "text": [
      "Your Gender : Male\n",
      "Your Age : 20\n"
     ]
    },
    {
     "name": "stdout",
     "output_type": "stream",
     "text": [
      "NOT ELIGIBLE\n"
     ]
    }
   ],
   "source": [
    "# Create a function that tells elegibility of marriage for male and female according to their age limit like 21 for male and 18 for female\n",
    "\n",
    "def Eligible():\n",
    "    Gender=input(\"Your Gender :\")\n",
    "    age=int(input(\"Your Age :\"))\n",
    "    if(Gender==\"Male\" and age>=21):\n",
    "        print(\"ELIGIBLE\")\n",
    "    elif(Gender==\"Female\" and age>=18):\n",
    "        print(\"ELIGIBLE\")\n",
    "    else:\n",
    "        print(\"NOT ELIGIBLE\")\n",
    "EligiblityForMarriage=Eligible()        \n",
    "        "
   ]
  },
  {
   "cell_type": "code",
   "execution_count": 35,
   "id": "873ce33c-4151-4876-91c5-2d35e81f44f1",
   "metadata": {},
   "outputs": [
    {
     "name": "stdin",
     "output_type": "stream",
     "text": [
      "Subject1 : 98\n",
      "Subject2: 87\n",
      "Subject3: 95\n",
      "Subject4: 95\n",
      "Subject5: 93\n"
     ]
    },
    {
     "name": "stdout",
     "output_type": "stream",
     "text": [
      "Subject1 : 98\n",
      "Subject2 : 87\n",
      "Subject3 : 95\n",
      "Subject4 : 95\n",
      "Subject5 : 93\n",
      "Total : 468\n",
      "Percentage : 93.60000000000001\n"
     ]
    }
   ],
   "source": [
    "# calculate the percentage of your 10th mark\n",
    "def Percentage():\n",
    "    Subject1=int(input(\"Subject1 :\"))\n",
    "    Subject2=int(input(\"Subject2:\"))\n",
    "    Subject3=int(input(\"Subject3:\"))\n",
    "    Subject4=int(input(\"Subject4:\"))\n",
    "    Subject5=int(input(\"Subject5:\"))\n",
    "    Total=Subject1+Subject2+Subject3+Subject4+Subject5\n",
    "    print(\"Subject1 :\",Subject1)\n",
    "    print(\"Subject2 :\",Subject2)\n",
    "    print(\"Subject3 :\",Subject3)\n",
    "    print(\"Subject4 :\",Subject4)\n",
    "    print(\"Subject5 :\",Subject5)\n",
    "    print(\"Total :\",Total)\n",
    "    TotalMarks=500\n",
    "    percentage=(Total/TotalMarks)*100\n",
    "    print(\"Percentage :\",percentage)\n",
    "Percentage()"
   ]
  },
  {
   "cell_type": "code",
   "execution_count": 37,
   "id": "54a4bac8-fb70-4316-b527-2e825cb84b07",
   "metadata": {},
   "outputs": [
    {
     "name": "stdin",
     "output_type": "stream",
     "text": [
      "Height : 32\n",
      "Breadth : 34\n"
     ]
    },
    {
     "name": "stdout",
     "output_type": "stream",
     "text": [
      "Height : 32\n",
      "Breadth : 34\n",
      "Area Formula :(Height*Breadth)/2\n",
      "Area of Triangle : 544.0\n"
     ]
    },
    {
     "name": "stdin",
     "output_type": "stream",
     "text": [
      "Height1 : 2\n",
      "Height2 : 4\n",
      "Breadth : 4\n"
     ]
    },
    {
     "name": "stdout",
     "output_type": "stream",
     "text": [
      "Height1 : 2\n",
      "Height2 : 4\n",
      "Breadth : 4\n",
      "Perimeter Formula :Height1+Height2+Breadth1\n",
      "Perimeter of Triangle : 10\n"
     ]
    },
    {
     "name": "stdin",
     "output_type": "stream",
     "text": [
      "Height : 32\n",
      "Breadth : 34\n"
     ]
    },
    {
     "name": "stdout",
     "output_type": "stream",
     "text": [
      "Height : 32\n",
      "Breadth : 34\n",
      "Area Formula :(Height*Breadth)/2\n",
      "Area of Triangle : 544.0\n"
     ]
    },
    {
     "name": "stdin",
     "output_type": "stream",
     "text": [
      "Height1 : 2\n",
      "Height2 : 4\n",
      "Breadth : 4\n"
     ]
    },
    {
     "name": "stdout",
     "output_type": "stream",
     "text": [
      "Height1 : 2\n",
      "Height2 : 4\n",
      "Breadth : 4\n",
      "Perimeter Formula :Height1+Height2+Breadth1\n",
      "Perimeter of Triangle : 10\n"
     ]
    }
   ],
   "source": [
    "### print area and perimeter of triangle using class and functions\n",
    "def triangle():\n",
    "    Height=int(input(\"Height :\"))\n",
    "    Breadth=int(input(\"Breadth :\"))\n",
    "    AreaFormula=(Height*Breadth)/2\n",
    "    print(\"Height :\",Height)\n",
    "    print(\"Breadth :\",Breadth)\n",
    "    print(\"Area Formula :(Height*Breadth)/2\")\n",
    "    print(\"Area of Triangle :\",AreaFormula)\n",
    "    Height1=int(input(\"Height1 :\"))\n",
    "    Height2=int(input(\"Height2 :\"))\n",
    "    Breadth1=int(input(\"Breadth :\"))\n",
    "    Perimeter_Formula=Height1+Height2+Breadth1\n",
    "    print(\"Height1 :\",Height1)\n",
    "    print(\"Height2 :\",Height2)\n",
    "    print(\"Breadth :\",Breadth1)\n",
    "    print(\"Perimeter Formula :Height1+Height2+Breadth1\")\n",
    "    print(\"Perimeter of Triangle :\",Perimeter_Formula)\n",
    "triangle()   \n",
    " \n",
    "    \n",
    "    "
   ]
  },
  {
   "cell_type": "code",
   "execution_count": null,
   "id": "b14bf4df-225b-46d6-8914-6f7707e85eb0",
   "metadata": {},
   "outputs": [],
   "source": []
  }
 ],
 "metadata": {
  "kernelspec": {
   "display_name": "Python 3 (ipykernel)",
   "language": "python",
   "name": "python3"
  },
  "language_info": {
   "codemirror_mode": {
    "name": "ipython",
    "version": 3
   },
   "file_extension": ".py",
   "mimetype": "text/x-python",
   "name": "python",
   "nbconvert_exporter": "python",
   "pygments_lexer": "ipython3",
   "version": "3.12.7"
  }
 },
 "nbformat": 4,
 "nbformat_minor": 5
}
