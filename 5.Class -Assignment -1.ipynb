{
 "cells": [
  {
   "cell_type": "code",
   "execution_count": 8,
   "id": "e897bd65-7832-4e8f-b9f6-072dbc7ef066",
   "metadata": {},
   "outputs": [],
   "source": [
    "#Create a class and function, and list out the items in the list\n",
    "class SubfieldsInAI():\n",
    "    def Subfields():\n",
    "        list=[\"Machine Learning\",\"Neural Networks\",\"Vision\",\"Robotics\",\"Speech Processing\",\"Natural Language Processing\"]\n",
    "        print(\"Sub-fields in AI are:\")\n",
    "        for subfields in list:\n",
    "                print(subfields)\n",
    "            "
   ]
  },
  {
   "cell_type": "code",
   "execution_count": 9,
   "id": "4eb45611-838e-4a1e-9ec9-85769abf054b",
   "metadata": {},
   "outputs": [
    {
     "name": "stdout",
     "output_type": "stream",
     "text": [
      "Sub-fields in AI are:\n",
      "Machine Learning\n",
      "Neural Networks\n",
      "Vision\n",
      "Robotics\n",
      "Speech Processing\n",
      "Natural Language Processing\n"
     ]
    }
   ],
   "source": [
    "SubfieldsInAI.Subfields()"
   ]
  },
  {
   "cell_type": "code",
   "execution_count": 10,
   "id": "39e23099-7761-43aa-9fdf-fd1a0fc41900",
   "metadata": {},
   "outputs": [],
   "source": [
    "# Create a function that checks whether the given number is Odd or Even.\n",
    "class oddEven():\n",
    "    def oddEven():\n",
    "        num=int(input(\"Enter any number :\"))\n",
    "        if(num%2==0):\n",
    "            print(num,\"is Even number\")\n",
    "        else:\n",
    "            print(num,\"is Odd number\")\n"
   ]
  },
  {
   "cell_type": "code",
   "execution_count": 11,
   "id": "0c36f68d-5079-4892-a068-df3f70a44273",
   "metadata": {},
   "outputs": [
    {
     "name": "stdin",
     "output_type": "stream",
     "text": [
      "Enter any number : 52452\n"
     ]
    },
    {
     "name": "stdout",
     "output_type": "stream",
     "text": [
      "52452 is Even number\n"
     ]
    }
   ],
   "source": [
    "oddEven.oddEven()"
   ]
  },
  {
   "cell_type": "code",
   "execution_count": 12,
   "id": "8df22948-0690-446d-8162-c5c5d6320a85",
   "metadata": {},
   "outputs": [],
   "source": [
    "#Create a function that tells elegibility of marriage for male and female according to their age limit like 21 for male and 18 for female\n",
    "class EligiblityForMarriage():\n",
    "    def Eligible():\n",
    "        gender=input(\"Your Gender :\")\n",
    "        age=int(input(\"Your Age :\"))\n",
    "        if(gender==\"Female\" and age>=18):\n",
    "             print(\"ELIGIBLE\")\n",
    "        elif(gender==\"Male\" and age>=21):\n",
    "            print(\"ELIGIBLE\")\n",
    "        else:\n",
    "            print(\"NOT ELIGIBLE\")\n",
    "            \n",
    "\n"
   ]
  },
  {
   "cell_type": "code",
   "execution_count": 13,
   "id": "8aa4e278-6249-4809-a199-7d8fae160938",
   "metadata": {},
   "outputs": [
    {
     "name": "stdin",
     "output_type": "stream",
     "text": [
      "Your Gender : Male\n",
      "Your Age : 20\n"
     ]
    },
    {
     "name": "stdout",
     "output_type": "stream",
     "text": [
      "NOT ELIGIBLE\n"
     ]
    }
   ],
   "source": [
    "EligiblityForMarriage.Eligible()"
   ]
  },
  {
   "cell_type": "code",
   "execution_count": 15,
   "id": "0b9f4c65-0268-47b5-a513-5192429e6811",
   "metadata": {},
   "outputs": [],
   "source": [
    "# calculate the percentage of your 10th mark\n",
    "class FindPercent():\n",
    "     def percentage():\n",
    "         subject1=int(input(\"Subject1 :\"))\n",
    "         subject2=int(input(\"Subject2 :\"))\n",
    "         subject3=int(input(\"Subject3 :\"))\n",
    "         subject4=int(input(\"Subject4 :\"))\n",
    "         subject5=int(input(\"Subject5 :\"))\n",
    "         TotalMarks=500\n",
    "         Total=subject1+subject2+subject3+subject4+subject5\n",
    "         percentage=(Total/TotalMarks)*100\n",
    "         print(\"Subject1 :\",subject1)\n",
    "         print(\"Subject2 :\",subject2)\n",
    "         print(\"Subject3 :\",subject3)\n",
    "         print(\"Subject4 :\",subject4)\n",
    "         print(\"Subject5 :\",subject5)\n",
    "         print(\"Total :\",Total)\n",
    "         print(\"Percentage :\",percentage)\n",
    "         \n",
    "         "
   ]
  },
  {
   "cell_type": "code",
   "execution_count": 16,
   "id": "cbfe7e9c-928c-4775-b791-ea4d23e807f8",
   "metadata": {},
   "outputs": [
    {
     "name": "stdin",
     "output_type": "stream",
     "text": [
      "Subject1 : 98\n",
      "Subject2 : 87\n",
      "Subject3 : 95\n",
      "Subject4 : 95\n",
      "Subject5 : 93\n"
     ]
    },
    {
     "name": "stdout",
     "output_type": "stream",
     "text": [
      "Subject1 : 98\n",
      "Subject2 : 87\n",
      "Subject3 : 95\n",
      "Subject4 : 95\n",
      "Subject5 : 93\n",
      "Total : 468\n",
      "Percentage : 93.60000000000001\n"
     ]
    }
   ],
   "source": [
    "FindPercent.percentage()"
   ]
  },
  {
   "cell_type": "code",
   "execution_count": 4,
   "id": "860c27d7-9f37-499a-8c4b-d14d5217687a",
   "metadata": {},
   "outputs": [],
   "source": [
    "#print area and perimeter of triangle using class and functions\n",
    "class triangle():\n",
    "    def Triangle():\n",
    "        height=int(input(\"Height :\"))\n",
    "        breadth=int(input(\"Breadth :\"))\n",
    "        print(\"Height :\",height)\n",
    "        print(\"Breadth :\",breadth)\n",
    "        print(\"Area Formula:(Height*Breadth)/2\")\n",
    "        print(\"Area of Triangle :\",(height*breadth)/2)\n",
    "        height1=int(input(\"Height1 :\"))\n",
    "        height2=int(input(\"Height2 :\"))\n",
    "        breadth1=int(input(\"Breadth1 :\"))\n",
    "        print(\"Height1 :\",height1)\n",
    "        print(\"Height2 :\",height2)\n",
    "        print(\"Breadth :\",breadth1)\n",
    "        print(\"Perimeter formula: Height1+Height2+Breadth\")\n",
    "        print(\"Perimeter of Triangle:\",height1+height2+breadth)\n",
    "        "
   ]
  },
  {
   "cell_type": "code",
   "execution_count": 5,
   "id": "a5cefa0b-af04-4fbd-a280-681920f403db",
   "metadata": {},
   "outputs": [
    {
     "name": "stdin",
     "output_type": "stream",
     "text": [
      "Height : 32\n",
      "Breadth : 34\n"
     ]
    },
    {
     "name": "stdout",
     "output_type": "stream",
     "text": [
      "Height : 32\n",
      "Breadth : 34\n",
      "Area Formula:(Height*Breadth)/2\n",
      "Area of Triangle : 544.0\n"
     ]
    },
    {
     "name": "stdin",
     "output_type": "stream",
     "text": [
      "Height1 : 2\n",
      "Height2 : 4\n",
      "Breadth1 : 4\n"
     ]
    },
    {
     "name": "stdout",
     "output_type": "stream",
     "text": [
      "Height1 : 2\n",
      "Height2 : 4\n",
      "Breadth : 4\n",
      "Perimeter formula: Height1+Height2+Breadth\n",
      "Perimeter of Triangle: 40\n"
     ]
    }
   ],
   "source": [
    "triangle.Triangle()"
   ]
  },
  {
   "cell_type": "code",
   "execution_count": null,
   "id": "936c4126-a75d-444a-83ba-f0a612a02b8a",
   "metadata": {},
   "outputs": [],
   "source": []
  }
 ],
 "metadata": {
  "kernelspec": {
   "display_name": "Python 3 (ipykernel)",
   "language": "python",
   "name": "python3"
  },
  "language_info": {
   "codemirror_mode": {
    "name": "ipython",
    "version": 3
   },
   "file_extension": ".py",
   "mimetype": "text/x-python",
   "name": "python",
   "nbconvert_exporter": "python",
   "pygments_lexer": "ipython3",
   "version": "3.12.7"
  }
 },
 "nbformat": 4,
 "nbformat_minor": 5
}
