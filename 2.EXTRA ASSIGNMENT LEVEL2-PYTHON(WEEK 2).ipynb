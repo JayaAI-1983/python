{
 "cells": [
  {
   "cell_type": "code",
   "execution_count": 2,
   "id": "4d24ae29-a1cf-49df-9e56-051db59164a2",
   "metadata": {},
   "outputs": [
    {
     "name": "stdout",
     "output_type": "stream",
     "text": [
      "0\n",
      "1\n",
      "2\n",
      "3\n",
      "4\n",
      "5\n",
      "6\n",
      "7\n",
      "8\n",
      "9\n",
      "10\n",
      "11\n",
      "12\n",
      "13\n",
      "14\n",
      "15\n",
      "16\n",
      "17\n",
      "18\n",
      "19\n"
     ]
    }
   ],
   "source": [
    "#QUESTION 1: PRINT 0 TO 20 BY USING RANGE\n",
    "for number in range(0,20):\n",
    "     print(number)"
   ]
  },
  {
   "cell_type": "code",
   "execution_count": 3,
   "id": "09bcd62e-7061-4b4f-a390-6ee801edd9ea",
   "metadata": {},
   "outputs": [
    {
     "name": "stdout",
     "output_type": "stream",
     "text": [
      "10\n",
      "11\n",
      "12\n",
      "13\n",
      "14\n",
      "15\n",
      "16\n",
      "17\n",
      "18\n",
      "19\n"
     ]
    }
   ],
   "source": [
    "#QUESTION 2: print range 10 to 20\n",
    "for number in range(10,20):\n",
    "     print(number)"
   ]
  },
  {
   "cell_type": "code",
   "execution_count": 4,
   "id": "bd4f4c73-ad2a-4d2f-816d-5414ee8079d9",
   "metadata": {},
   "outputs": [
    {
     "name": "stdout",
     "output_type": "stream",
     "text": [
      "Number of items in the list is : 7\n"
     ]
    }
   ],
   "source": [
    "#question3 :Print number of items in the list by using 'len'\n",
    "lists=[10, 20, 14, 55, 43, 87, 76]\n",
    "print(\"Number of items in the list is :\",len(lists))"
   ]
  },
  {
   "cell_type": "code",
   "execution_count": 8,
   "id": "2d12535c-837b-430e-bb2d-60d58a373cc2",
   "metadata": {},
   "outputs": [
    {
     "name": "stdin",
     "output_type": "stream",
     "text": [
      "Enter a word ARTIFICIAL INTELLIGENCE\n"
     ]
    },
    {
     "name": "stdout",
     "output_type": "stream",
     "text": [
      "A\n",
      "R\n",
      "T\n",
      "I\n",
      "F\n",
      "I\n",
      "C\n",
      "I\n",
      "A\n",
      "L\n",
      " \n",
      "I\n",
      "N\n",
      "T\n",
      "E\n",
      "L\n",
      "L\n",
      "I\n",
      "G\n",
      "E\n",
      "N\n",
      "C\n",
      "E\n"
     ]
    }
   ],
   "source": [
    "#question 4: print ARIFICIAL INTELLIGENCE\n",
    "word =input(\"Enter a word\")\n",
    "for letter in word:\n",
    "     print(letter)"
   ]
  },
  {
   "cell_type": "code",
   "execution_count": 9,
   "id": "bcba3682-2250-4c85-abc5-94a21615f793",
   "metadata": {},
   "outputs": [
    {
     "name": "stdin",
     "output_type": "stream",
     "text": [
      "Enter your Name: JAYA\n",
      "Enter your age: 32\n",
      "Enter Profession: SOFTWARE DEVELOPER\n"
     ]
    }
   ],
   "source": [
    "# QUESTION 5: BUY INPUTS\n",
    "name=input(\"Enter your Name:\")\n",
    "age=int(input(\"Enter your age:\"))\n",
    "profession=input(\"Enter Profession:\")\n"
   ]
  },
  {
   "cell_type": "code",
   "execution_count": 11,
   "id": "cdb649d1-3542-4ccd-ac93-f2b81cc2b32d",
   "metadata": {},
   "outputs": [
    {
     "name": "stdout",
     "output_type": "stream",
     "text": [
      "1\n",
      "Welcome\n",
      "2\n",
      "HOPE AI\n"
     ]
    }
   ],
   "source": [
    "#QUESTION 6:  Print yhis mixered datatype using Tuples\n",
    "mixed_dataitem=(1,\"Welcome\",2,\"HOPE AI\")\n",
    "for items in mixed_dataitem:\n",
    "     print(items)"
   ]
  },
  {
   "cell_type": "code",
   "execution_count": 12,
   "id": "b40dcf63-7058-4662-8970-372881cb0318",
   "metadata": {},
   "outputs": [
    {
     "name": "stdout",
     "output_type": "stream",
     "text": [
      "((0, 1, 2, 3), ('python', 'HOPE'))\n"
     ]
    }
   ],
   "source": [
    "#question 7: ((0, 1, 2, 3), ('python', 'HOPE'))\n",
    "tuple1=(0,1,2,3)\n",
    "tuple2=('python','HOPE')\n",
    "result=(tuple1,tuple2)\n",
    "print(result)\n"
   ]
  },
  {
   "cell_type": "code",
   "execution_count": 17,
   "id": "d76c4b95-a9b7-4cf7-8099-d15529179b00",
   "metadata": {},
   "outputs": [
    {
     "name": "stdout",
     "output_type": "stream",
     "text": [
      "19 is odd\n",
      "25 is odd\n",
      "1 is odd\n"
     ]
    }
   ],
   "source": [
    "#question 8: print the odd numbers in the list ( 20,10,16,19,25,1,276,188)\n",
    "list=(20,10,16,19,25,1,276,188)\n",
    "for odd in list:\n",
    "    if(odd%2==1):\n",
    "        print(odd,\"is odd\")\n",
    "    "
   ]
  },
  {
   "cell_type": "code",
   "execution_count": 18,
   "id": "956cacfc-784c-4e52-b8d2-e4122c72375d",
   "metadata": {},
   "outputs": [
    {
     "name": "stdout",
     "output_type": "stream",
     "text": [
      "20 is even number\n",
      "10 is even number\n",
      "16 is even number\n",
      "276 is even number\n",
      "188 is even number\n"
     ]
    }
   ],
   "source": [
    "# question 9: print even numbers in the list: (20,10,16,19,25,1,276,188)\n",
    "list=(20,10,16,19,25,1,276,188)\n",
    "for even in list:\n",
    "    if(even%2==0):\n",
    "        print(even,\"is even number\")\n",
    "        "
   ]
  },
  {
   "cell_type": "code",
   "execution_count": null,
   "id": "4110d6b9-6d3c-487f-b6d3-b011f5fe91e8",
   "metadata": {},
   "outputs": [],
   "source": []
  }
 ],
 "metadata": {
  "kernelspec": {
   "display_name": "Python 3 (ipykernel)",
   "language": "python",
   "name": "python3"
  },
  "language_info": {
   "codemirror_mode": {
    "name": "ipython",
    "version": 3
   },
   "file_extension": ".py",
   "mimetype": "text/x-python",
   "name": "python",
   "nbconvert_exporter": "python",
   "pygments_lexer": "ipython3",
   "version": "3.12.7"
  }
 },
 "nbformat": 4,
 "nbformat_minor": 5
}
