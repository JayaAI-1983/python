{
 "cells": [
  {
   "cell_type": "code",
   "execution_count": 1,
   "id": "639a0a53-6b40-4151-8083-4889c3bc838f",
   "metadata": {},
   "outputs": [
    {
     "name": "stdout",
     "output_type": "stream",
     "text": [
      "HOPE AI\n"
     ]
    }
   ],
   "source": [
    "#Question1: print Hope AI\n",
    "print(\"HOPE AI\")\n",
    "\n"
   ]
  },
  {
   "cell_type": "code",
   "execution_count": 2,
   "id": "0f0cfe7b-2757-41a6-ad4a-cd549545413e",
   "metadata": {},
   "outputs": [
    {
     "name": "stdin",
     "output_type": "stream",
     "text": [
      "Enter Your Institute Name : HOPE AI\n"
     ]
    },
    {
     "name": "stdout",
     "output_type": "stream",
     "text": [
      "Enter your Institute Name ?: HOPE AI\n"
     ]
    }
   ],
   "source": [
    "#QUESTION2: BUY INPUT\n",
    "institute=input(\"Enter Your Institute Name :\")\n",
    "print(\"Enter your Institute Name ?:\",institute)"
   ]
  },
  {
   "cell_type": "code",
   "execution_count": 3,
   "id": "c649c2f5-ae00-42d2-a7c8-1cc73fb8718b",
   "metadata": {},
   "outputs": [
    {
     "name": "stdin",
     "output_type": "stream",
     "text": [
      "Enter Your name : JAYA\n",
      "Enter your Age : 32\n",
      "Enter your School Name: DOMINICS\n",
      "Enter your Degree: MCA\n"
     ]
    }
   ],
   "source": [
    "#QUESTION 3: BUY INPUTS:\n",
    "name=input(\"Enter Your name :\")\n",
    "age=int(input(\"Enter your Age :\"))\n",
    "school=input(\"Enter your School Name:\")\n",
    "degree=input(\"Enter your Degree:\")"
   ]
  },
  {
   "cell_type": "code",
   "execution_count": 4,
   "id": "28dba413-0c1d-4b49-aa05-34d8d7505692",
   "metadata": {},
   "outputs": [
    {
     "name": "stdin",
     "output_type": "stream",
     "text": [
      "Enter number 1: 23\n",
      "Enter number 2: 25\n"
     ]
    },
    {
     "name": "stdout",
     "output_type": "stream",
     "text": [
      "Add : 48\n"
     ]
    }
   ],
   "source": [
    "#QUESTION 4: ADDITION\n",
    "num1=int(input(\"Enter number 1:\"))\n",
    "num2=int(input(\"Enter number 2:\"))\n",
    "print(\"Add :\",num1+num2)"
   ]
  },
  {
   "cell_type": "code",
   "execution_count": 5,
   "id": "f7050f07-f38e-4fde-b4d3-f022c380e60e",
   "metadata": {},
   "outputs": [
    {
     "name": "stdin",
     "output_type": "stream",
     "text": [
      "Enter number 1: 50\n",
      "Enter number 2: 26\n"
     ]
    },
    {
     "name": "stdout",
     "output_type": "stream",
     "text": [
      "Sub : 24\n"
     ]
    }
   ],
   "source": [
    "#QUESTION 5: SUBTRACTION\n",
    "num1=int(input(\"Enter number 1:\"))\n",
    "num2=int(input(\"Enter number 2:\"))\n",
    "print(\"Sub :\",num1-num2)"
   ]
  },
  {
   "cell_type": "code",
   "execution_count": 6,
   "id": "867f08db-65fd-4a31-85d7-8d71842d8e49",
   "metadata": {},
   "outputs": [
    {
     "name": "stdin",
     "output_type": "stream",
     "text": [
      "Enter number 1: 25\n",
      "Enter number 2: 2\n"
     ]
    },
    {
     "name": "stdout",
     "output_type": "stream",
     "text": [
      "MULT : 50\n"
     ]
    }
   ],
   "source": [
    "#QUESTION 6: MULTIPLICATION\n",
    "num1=int(input(\"Enter number 1:\"))\n",
    "num2=int(input(\"Enter number 2:\"))\n",
    "print(\"MULT :\",num1*num2)"
   ]
  },
  {
   "cell_type": "code",
   "execution_count": 7,
   "id": "b1862207-9a31-403b-8a89-90c220d74dd7",
   "metadata": {},
   "outputs": [
    {
     "name": "stdin",
     "output_type": "stream",
     "text": [
      "Enter number 1: 63\n",
      "Enter number 2: 2\n"
     ]
    },
    {
     "name": "stdout",
     "output_type": "stream",
     "text": [
      "Division : 31.5\n"
     ]
    }
   ],
   "source": [
    "#QUESTION 7: DIVISION\n",
    "num1=int(input(\"Enter number 1:\"))\n",
    "num2=int(input(\"Enter number 2:\"))\n",
    "print(\"Division :\",float(num1/num2))"
   ]
  },
  {
   "cell_type": "code",
   "execution_count": 9,
   "id": "609283ad-0bf3-469b-afb2-0599bb3be8b9",
   "metadata": {},
   "outputs": [
    {
     "name": "stdin",
     "output_type": "stream",
     "text": [
      "Enter number 1: 63\n",
      "Enter number 2: 2\n"
     ]
    },
    {
     "name": "stdout",
     "output_type": "stream",
     "text": [
      "FLOOR DIVISION : 31\n"
     ]
    }
   ],
   "source": [
    "#QUESTION 8: FLOOR DIVISION\n",
    "num1=int(input(\"Enter number 1:\"))\n",
    "num2=int(input(\"Enter number 2:\"))\n",
    "print(\"FLOOR DIVISION :\",num1//num2)\n"
   ]
  },
  {
   "cell_type": "code",
   "execution_count": 11,
   "id": "ce1ffb4a-8d0a-4bc5-895e-6465ce6852ea",
   "metadata": {},
   "outputs": [
    {
     "name": "stdin",
     "output_type": "stream",
     "text": [
      "Enter number 1: 76\n",
      "Enter number 2: 31\n"
     ]
    },
    {
     "name": "stdout",
     "output_type": "stream",
     "text": [
      "MODULO : 14\n"
     ]
    }
   ],
   "source": [
    "#QUESTION 9: MODULO\n",
    "num1=int(input(\"Enter number 1:\"))\n",
    "num2=int(input(\"Enter number 2:\"))\n",
    "print(\"MODULO :\",num1%num2)"
   ]
  },
  {
   "cell_type": "code",
   "execution_count": 14,
   "id": "d4d17a52-de2f-4a2d-a17c-7384505b0f63",
   "metadata": {},
   "outputs": [
    {
     "name": "stdin",
     "output_type": "stream",
     "text": [
      "Enter number 1: 2\n",
      "Enter number 2: 2\n"
     ]
    },
    {
     "name": "stdout",
     "output_type": "stream",
     "text": [
      "POWER : 4\n"
     ]
    }
   ],
   "source": [
    "#QUESTION 10: POWER\n",
    "num1=int(input(\"Enter number 1:\"))\n",
    "num2=int(input(\"Enter number 2:\"))\n",
    "print(\"POWER :\",num1**num2)"
   ]
  },
  {
   "cell_type": "code",
   "execution_count": null,
   "id": "18c50a78-5e68-4846-a612-959f9c8757fd",
   "metadata": {},
   "outputs": [],
   "source": []
  }
 ],
 "metadata": {
  "kernelspec": {
   "display_name": "Python 3 (ipykernel)",
   "language": "python",
   "name": "python3"
  },
  "language_info": {
   "codemirror_mode": {
    "name": "ipython",
    "version": 3
   },
   "file_extension": ".py",
   "mimetype": "text/x-python",
   "name": "python",
   "nbconvert_exporter": "python",
   "pygments_lexer": "ipython3",
   "version": "3.12.7"
  }
 },
 "nbformat": 4,
 "nbformat_minor": 5
}
